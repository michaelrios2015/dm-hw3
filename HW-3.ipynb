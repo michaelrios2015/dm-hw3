{
 "cells": [
  {
   "cell_type": "code",
   "execution_count": 5,
   "id": "ab5eabc3",
   "metadata": {},
   "outputs": [
    {
     "name": "stdout",
     "output_type": "stream",
     "text": [
      "6248\n"
     ]
    },
    {
     "data": {
      "text/html": [
       "<div>\n",
       "<style scoped>\n",
       "    .dataframe tbody tr th:only-of-type {\n",
       "        vertical-align: middle;\n",
       "    }\n",
       "\n",
       "    .dataframe tbody tr th {\n",
       "        vertical-align: top;\n",
       "    }\n",
       "\n",
       "    .dataframe thead th {\n",
       "        text-align: right;\n",
       "    }\n",
       "</style>\n",
       "<table border=\"1\" class=\"dataframe\">\n",
       "  <thead>\n",
       "    <tr style=\"text-align: right;\">\n",
       "      <th></th>\n",
       "      <th>Virtual</th>\n",
       "      <th>Offset</th>\n",
       "      <th>loc</th>\n",
       "      <th>Import</th>\n",
       "      <th>Imports</th>\n",
       "      <th>var</th>\n",
       "      <th>Forwarder</th>\n",
       "      <th>UINT</th>\n",
       "      <th>LONG</th>\n",
       "      <th>BOOL</th>\n",
       "      <th>...</th>\n",
       "      <th>count_file_written</th>\n",
       "      <th>count_file_exists</th>\n",
       "      <th>count_file_deleted</th>\n",
       "      <th>count_file_copied</th>\n",
       "      <th>count_file_renamed</th>\n",
       "      <th>count_regkey_written</th>\n",
       "      <th>count_regkey_deleted</th>\n",
       "      <th>count_file_opened</th>\n",
       "      <th>count_dll_loaded</th>\n",
       "      <th>label</th>\n",
       "    </tr>\n",
       "  </thead>\n",
       "  <tbody>\n",
       "    <tr>\n",
       "      <th>0</th>\n",
       "      <td>0</td>\n",
       "      <td>0</td>\n",
       "      <td>1</td>\n",
       "      <td>0</td>\n",
       "      <td>0</td>\n",
       "      <td>0</td>\n",
       "      <td>0</td>\n",
       "      <td>0</td>\n",
       "      <td>0</td>\n",
       "      <td>0</td>\n",
       "      <td>...</td>\n",
       "      <td>0</td>\n",
       "      <td>0</td>\n",
       "      <td>0</td>\n",
       "      <td>0</td>\n",
       "      <td>0</td>\n",
       "      <td>0</td>\n",
       "      <td>0</td>\n",
       "      <td>0</td>\n",
       "      <td>0</td>\n",
       "      <td>0</td>\n",
       "    </tr>\n",
       "    <tr>\n",
       "      <th>1</th>\n",
       "      <td>0</td>\n",
       "      <td>0</td>\n",
       "      <td>0</td>\n",
       "      <td>0</td>\n",
       "      <td>0</td>\n",
       "      <td>0</td>\n",
       "      <td>0</td>\n",
       "      <td>0</td>\n",
       "      <td>0</td>\n",
       "      <td>0</td>\n",
       "      <td>...</td>\n",
       "      <td>0</td>\n",
       "      <td>0</td>\n",
       "      <td>0</td>\n",
       "      <td>0</td>\n",
       "      <td>0</td>\n",
       "      <td>0</td>\n",
       "      <td>0</td>\n",
       "      <td>0</td>\n",
       "      <td>0</td>\n",
       "      <td>0</td>\n",
       "    </tr>\n",
       "    <tr>\n",
       "      <th>2</th>\n",
       "      <td>0</td>\n",
       "      <td>0</td>\n",
       "      <td>1</td>\n",
       "      <td>0</td>\n",
       "      <td>0</td>\n",
       "      <td>0</td>\n",
       "      <td>0</td>\n",
       "      <td>0</td>\n",
       "      <td>0</td>\n",
       "      <td>0</td>\n",
       "      <td>...</td>\n",
       "      <td>0</td>\n",
       "      <td>0</td>\n",
       "      <td>0</td>\n",
       "      <td>0</td>\n",
       "      <td>0</td>\n",
       "      <td>0</td>\n",
       "      <td>0</td>\n",
       "      <td>0</td>\n",
       "      <td>0</td>\n",
       "      <td>0</td>\n",
       "    </tr>\n",
       "    <tr>\n",
       "      <th>3</th>\n",
       "      <td>0</td>\n",
       "      <td>0</td>\n",
       "      <td>1</td>\n",
       "      <td>0</td>\n",
       "      <td>0</td>\n",
       "      <td>0</td>\n",
       "      <td>0</td>\n",
       "      <td>0</td>\n",
       "      <td>0</td>\n",
       "      <td>0</td>\n",
       "      <td>...</td>\n",
       "      <td>0</td>\n",
       "      <td>0</td>\n",
       "      <td>0</td>\n",
       "      <td>0</td>\n",
       "      <td>0</td>\n",
       "      <td>0</td>\n",
       "      <td>0</td>\n",
       "      <td>0</td>\n",
       "      <td>0</td>\n",
       "      <td>0</td>\n",
       "    </tr>\n",
       "    <tr>\n",
       "      <th>4</th>\n",
       "      <td>0</td>\n",
       "      <td>0</td>\n",
       "      <td>0</td>\n",
       "      <td>0</td>\n",
       "      <td>0</td>\n",
       "      <td>0</td>\n",
       "      <td>0</td>\n",
       "      <td>0</td>\n",
       "      <td>0</td>\n",
       "      <td>0</td>\n",
       "      <td>...</td>\n",
       "      <td>0</td>\n",
       "      <td>0</td>\n",
       "      <td>0</td>\n",
       "      <td>0</td>\n",
       "      <td>0</td>\n",
       "      <td>0</td>\n",
       "      <td>0</td>\n",
       "      <td>0</td>\n",
       "      <td>0</td>\n",
       "      <td>0</td>\n",
       "    </tr>\n",
       "  </tbody>\n",
       "</table>\n",
       "<p>5 rows × 1085 columns</p>\n",
       "</div>"
      ],
      "text/plain": [
       "   Virtual  Offset  loc  Import  Imports  var  Forwarder  UINT  LONG  BOOL  \\\n",
       "0        0       0    1       0        0    0          0     0     0     0   \n",
       "1        0       0    0       0        0    0          0     0     0     0   \n",
       "2        0       0    1       0        0    0          0     0     0     0   \n",
       "3        0       0    1       0        0    0          0     0     0     0   \n",
       "4        0       0    0       0        0    0          0     0     0     0   \n",
       "\n",
       "   ...  count_file_written  count_file_exists  count_file_deleted  \\\n",
       "0  ...                   0                  0                   0   \n",
       "1  ...                   0                  0                   0   \n",
       "2  ...                   0                  0                   0   \n",
       "3  ...                   0                  0                   0   \n",
       "4  ...                   0                  0                   0   \n",
       "\n",
       "   count_file_copied  count_file_renamed  count_regkey_written  \\\n",
       "0                  0                   0                     0   \n",
       "1                  0                   0                     0   \n",
       "2                  0                   0                     0   \n",
       "3                  0                   0                     0   \n",
       "4                  0                   0                     0   \n",
       "\n",
       "   count_regkey_deleted  count_file_opened  count_dll_loaded  label  \n",
       "0                     0                  0                 0      0  \n",
       "1                     0                  0                 0      0  \n",
       "2                     0                  0                 0      0  \n",
       "3                     0                  0                 0      0  \n",
       "4                     0                  0                 0      0  \n",
       "\n",
       "[5 rows x 1085 columns]"
      ]
     },
     "execution_count": 5,
     "metadata": {},
     "output_type": "execute_result"
    }
   ],
   "source": [
    "import pandas as pd\n",
    "\n",
    "data = pd.read_csv('Malware-staDyn-data.csv')\n",
    "\n",
    "print(data.shape[0])\n",
    "data.head()\n",
    "\n",
    "# data = pd.read_csv('C:/Users/micha/math4ds/StarWarsClean.csv')\n",
    "# "
   ]
  },
  {
   "cell_type": "code",
   "execution_count": 8,
   "id": "f4fb77e4",
   "metadata": {},
   "outputs": [
    {
     "data": {
      "text/plain": [
       "1    5653\n",
       "0     595\n",
       "Name: label, dtype: int64"
      ]
     },
     "execution_count": 8,
     "metadata": {},
     "output_type": "execute_result"
    }
   ],
   "source": [
    "# yup \n",
    "data['label'].value_counts()"
   ]
  },
  {
   "cell_type": "code",
   "execution_count": 29,
   "id": "4111c09a",
   "metadata": {},
   "outputs": [
    {
     "data": {
      "text/plain": [
       "([<matplotlib.patches.Wedge at 0x11261c0c220>,\n",
       "  <matplotlib.patches.Wedge at 0x11261bec250>],\n",
       " [Text(-1.051137863151662, 0.324205479054501, 'malware'),\n",
       "  Text(1.0511378783288143, -0.3242054298471861, 'benign')])"
      ]
     },
     "execution_count": 29,
     "metadata": {},
     "output_type": "execute_result"
    },
    {
     "data": {
      "image/png": "[encoded data removed]",
      "text/plain": [
       "<Figure size 640x480 with 1 Axes>"
      ]
     },
     "metadata": {},
     "output_type": "display_data"
    }
   ],
   "source": [
    "# well seems to work \n",
    "import matplotlib.pyplot as plt\n",
    "\n",
    "labels = 'malware', 'benign'\n",
    "\n",
    "fig, ax = plt.subplots()\n",
    "ax.pie(data['label'].value_counts(), labels = labels)"
   ]
  },
  {
   "cell_type": "code",
   "execution_count": 46,
   "id": "49755cf1",
   "metadata": {},
   "outputs": [],
   "source": [
    "from sklearn import tree\n",
    "\n",
    "Y = data['label']\n",
    "X = data.drop(['label'], axis=1)\n",
    "\n",
    "clf = tree.DecisionTreeClassifier(criterion='entropy', max_depth = 3)\n",
    "clf = clf.fit(X,Y)"
   ]
  },
  {
   "cell_type": "code",
   "execution_count": 47,
   "id": "1197972f",
   "metadata": {},
   "outputs": [
    {
     "data": {
      "text/plain": [
       "[Text(0.5, 0.875, 'x[1050] <= 1.5\\nentropy = 0.454\\nsamples = 6248\\nvalue = [595, 5653]'),\n",
       " Text(0.25, 0.625, 'x[1052] <= 0.5\\nentropy = 0.183\\nsamples = 5784\\nvalue = [161, 5623]'),\n",
       " Text(0.125, 0.375, 'x[1062] <= 65101.0\\nentropy = 0.016\\nsamples = 4882\\nvalue = [7, 4875]'),\n",
       " Text(0.0625, 0.125, 'entropy = 0.0\\nsamples = 3366\\nvalue = [0, 3366]'),\n",
       " Text(0.1875, 0.125, 'entropy = 0.042\\nsamples = 1516\\nvalue = [7, 1509]'),\n",
       " Text(0.375, 0.375, 'x[1009] <= 2.78\\nentropy = 0.659\\nsamples = 902\\nvalue = [154, 748]'),\n",
       " Text(0.3125, 0.125, 'entropy = 0.974\\nsamples = 202\\nvalue = [120, 82]'),\n",
       " Text(0.4375, 0.125, 'entropy = 0.28\\nsamples = 700\\nvalue = [34, 666]'),\n",
       " Text(0.75, 0.625, 'x[1051] <= 5.5\\nentropy = 0.346\\nsamples = 464\\nvalue = [434, 30]'),\n",
       " Text(0.625, 0.375, 'x[1007] <= 0.031\\nentropy = 0.229\\nsamples = 27\\nvalue = [1, 26]'),\n",
       " Text(0.5625, 0.125, 'entropy = 0.0\\nsamples = 26\\nvalue = [0, 26]'),\n",
       " Text(0.6875, 0.125, 'entropy = 0.0\\nsamples = 1\\nvalue = [1, 0]'),\n",
       " Text(0.875, 0.375, 'x[1050] <= 2.5\\nentropy = 0.075\\nsamples = 437\\nvalue = [433, 4]'),\n",
       " Text(0.8125, 0.125, 'entropy = 0.0\\nsamples = 433\\nvalue = [433, 0]'),\n",
       " Text(0.9375, 0.125, 'entropy = 0.0\\nsamples = 4\\nvalue = [0, 4]')]"
      ]
     },
     "execution_count": 47,
     "metadata": {},
     "output_type": "execute_result"
    },
    {
     "data": {
      "image/png": "[encoded data removed]",
      "text/plain": [
       "<Figure size 640x480 with 1 Axes>"
      ]
     },
     "metadata": {},
     "output_type": "display_data"
    }
   ],
   "source": [
    "tree.plot_tree(clf)"
   ]
  },
  {
   "cell_type": "code",
   "execution_count": 48,
   "id": "65e553d3",
   "metadata": {},
   "outputs": [
    {
     "data": {
      "text/plain": [
       "0.9803137003841229"
      ]
     },
     "execution_count": 48,
     "metadata": {},
     "output_type": "execute_result"
    }
   ],
   "source": [
    "clf.score(X, Y)"
   ]
  },
  {
   "cell_type": "code",
   "execution_count": null,
   "id": "477afb44",
   "metadata": {},
   "outputs": [],
   "source": []
  }
 ],
 "metadata": {
  "kernelspec": {
   "display_name": "Python 3 (ipykernel)",
   "language": "python",
   "name": "python3"
  },
  "language_info": {
   "codemirror_mode": {
    "name": "ipython",
    "version": 3
   },
   "file_extension": ".py",
   "mimetype": "text/x-python",
   "name": "python",
   "nbconvert_exporter": "python",
   "pygments_lexer": "ipython3",
   "version": "3.10.9"
  }
 },
 "nbformat": 4,
 "nbformat_minor": 5
}
