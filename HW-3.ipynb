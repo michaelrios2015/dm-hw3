{
 "cells": [
  {
   "cell_type": "code",
   "execution_count": 1,
   "id": "ab5eabc3",
   "metadata": {},
   "outputs": [
    {
     "name": "stdout",
     "output_type": "stream",
     "text": [
      "6248\n"
     ]
    },
    {
     "data": {
      "text/html": [
       "<div>\n",
       "<style scoped>\n",
       "    .dataframe tbody tr th:only-of-type {\n",
       "        vertical-align: middle;\n",
       "    }\n",
       "\n",
       "    .dataframe tbody tr th {\n",
       "        vertical-align: top;\n",
       "    }\n",
       "\n",
       "    .dataframe thead th {\n",
       "        text-align: right;\n",
       "    }\n",
       "</style>\n",
       "<table border=\"1\" class=\"dataframe\">\n",
       "  <thead>\n",
       "    <tr style=\"text-align: right;\">\n",
       "      <th></th>\n",
       "      <th>Virtual</th>\n",
       "      <th>Offset</th>\n",
       "      <th>loc</th>\n",
       "      <th>Import</th>\n",
       "      <th>Imports</th>\n",
       "      <th>var</th>\n",
       "      <th>Forwarder</th>\n",
       "      <th>UINT</th>\n",
       "      <th>LONG</th>\n",
       "      <th>BOOL</th>\n",
       "      <th>...</th>\n",
       "      <th>count_file_written</th>\n",
       "      <th>count_file_exists</th>\n",
       "      <th>count_file_deleted</th>\n",
       "      <th>count_file_copied</th>\n",
       "      <th>count_file_renamed</th>\n",
       "      <th>count_regkey_written</th>\n",
       "      <th>count_regkey_deleted</th>\n",
       "      <th>count_file_opened</th>\n",
       "      <th>count_dll_loaded</th>\n",
       "      <th>label</th>\n",
       "    </tr>\n",
       "  </thead>\n",
       "  <tbody>\n",
       "    <tr>\n",
       "      <th>0</th>\n",
       "      <td>0</td>\n",
       "      <td>0</td>\n",
       "      <td>1</td>\n",
       "      <td>0</td>\n",
       "      <td>0</td>\n",
       "      <td>0</td>\n",
       "      <td>0</td>\n",
       "      <td>0</td>\n",
       "      <td>0</td>\n",
       "      <td>0</td>\n",
       "      <td>...</td>\n",
       "      <td>0</td>\n",
       "      <td>0</td>\n",
       "      <td>0</td>\n",
       "      <td>0</td>\n",
       "      <td>0</td>\n",
       "      <td>0</td>\n",
       "      <td>0</td>\n",
       "      <td>0</td>\n",
       "      <td>0</td>\n",
       "      <td>0</td>\n",
       "    </tr>\n",
       "    <tr>\n",
       "      <th>1</th>\n",
       "      <td>0</td>\n",
       "      <td>0</td>\n",
       "      <td>0</td>\n",
       "      <td>0</td>\n",
       "      <td>0</td>\n",
       "      <td>0</td>\n",
       "      <td>0</td>\n",
       "      <td>0</td>\n",
       "      <td>0</td>\n",
       "      <td>0</td>\n",
       "      <td>...</td>\n",
       "      <td>0</td>\n",
       "      <td>0</td>\n",
       "      <td>0</td>\n",
       "      <td>0</td>\n",
       "      <td>0</td>\n",
       "      <td>0</td>\n",
       "      <td>0</td>\n",
       "      <td>0</td>\n",
       "      <td>0</td>\n",
       "      <td>0</td>\n",
       "    </tr>\n",
       "    <tr>\n",
       "      <th>2</th>\n",
       "      <td>0</td>\n",
       "      <td>0</td>\n",
       "      <td>1</td>\n",
       "      <td>0</td>\n",
       "      <td>0</td>\n",
       "      <td>0</td>\n",
       "      <td>0</td>\n",
       "      <td>0</td>\n",
       "      <td>0</td>\n",
       "      <td>0</td>\n",
       "      <td>...</td>\n",
       "      <td>0</td>\n",
       "      <td>0</td>\n",
       "      <td>0</td>\n",
       "      <td>0</td>\n",
       "      <td>0</td>\n",
       "      <td>0</td>\n",
       "      <td>0</td>\n",
       "      <td>0</td>\n",
       "      <td>0</td>\n",
       "      <td>0</td>\n",
       "    </tr>\n",
       "    <tr>\n",
       "      <th>3</th>\n",
       "      <td>0</td>\n",
       "      <td>0</td>\n",
       "      <td>1</td>\n",
       "      <td>0</td>\n",
       "      <td>0</td>\n",
       "      <td>0</td>\n",
       "      <td>0</td>\n",
       "      <td>0</td>\n",
       "      <td>0</td>\n",
       "      <td>0</td>\n",
       "      <td>...</td>\n",
       "      <td>0</td>\n",
       "      <td>0</td>\n",
       "      <td>0</td>\n",
       "      <td>0</td>\n",
       "      <td>0</td>\n",
       "      <td>0</td>\n",
       "      <td>0</td>\n",
       "      <td>0</td>\n",
       "      <td>0</td>\n",
       "      <td>0</td>\n",
       "    </tr>\n",
       "    <tr>\n",
       "      <th>4</th>\n",
       "      <td>0</td>\n",
       "      <td>0</td>\n",
       "      <td>0</td>\n",
       "      <td>0</td>\n",
       "      <td>0</td>\n",
       "      <td>0</td>\n",
       "      <td>0</td>\n",
       "      <td>0</td>\n",
       "      <td>0</td>\n",
       "      <td>0</td>\n",
       "      <td>...</td>\n",
       "      <td>0</td>\n",
       "      <td>0</td>\n",
       "      <td>0</td>\n",
       "      <td>0</td>\n",
       "      <td>0</td>\n",
       "      <td>0</td>\n",
       "      <td>0</td>\n",
       "      <td>0</td>\n",
       "      <td>0</td>\n",
       "      <td>0</td>\n",
       "    </tr>\n",
       "  </tbody>\n",
       "</table>\n",
       "<p>5 rows × 1085 columns</p>\n",
       "</div>"
      ],
      "text/plain": [
       "   Virtual  Offset  loc  Import  Imports  var  Forwarder  UINT  LONG  BOOL  \\\n",
       "0        0       0    1       0        0    0          0     0     0     0   \n",
       "1        0       0    0       0        0    0          0     0     0     0   \n",
       "2        0       0    1       0        0    0          0     0     0     0   \n",
       "3        0       0    1       0        0    0          0     0     0     0   \n",
       "4        0       0    0       0        0    0          0     0     0     0   \n",
       "\n",
       "   ...  count_file_written  count_file_exists  count_file_deleted  \\\n",
       "0  ...                   0                  0                   0   \n",
       "1  ...                   0                  0                   0   \n",
       "2  ...                   0                  0                   0   \n",
       "3  ...                   0                  0                   0   \n",
       "4  ...                   0                  0                   0   \n",
       "\n",
       "   count_file_copied  count_file_renamed  count_regkey_written  \\\n",
       "0                  0                   0                     0   \n",
       "1                  0                   0                     0   \n",
       "2                  0                   0                     0   \n",
       "3                  0                   0                     0   \n",
       "4                  0                   0                     0   \n",
       "\n",
       "   count_regkey_deleted  count_file_opened  count_dll_loaded  label  \n",
       "0                     0                  0                 0      0  \n",
       "1                     0                  0                 0      0  \n",
       "2                     0                  0                 0      0  \n",
       "3                     0                  0                 0      0  \n",
       "4                     0                  0                 0      0  \n",
       "\n",
       "[5 rows x 1085 columns]"
      ]
     },
     "execution_count": 1,
     "metadata": {},
     "output_type": "execute_result"
    }
   ],
   "source": [
    "# So we are just importing our data, it should have worked fine from the website, \n",
    "# but it was freaking out and i just download the data and have it locally but nothing else changes\n",
    "import pandas as pd\n",
    "\n",
    "data = pd.read_csv('Malware-staDyn-data.csv')\n",
    "\n",
    "# just so we can see some of the data \n",
    "print(data.shape[0])\n",
    "data.head()\n",
    "\n",
    "# data = pd.read_csv('C:/Users/micha/math4ds/StarWarsClean.csv')\n",
    "# "
   ]
  },
  {
   "cell_type": "code",
   "execution_count": 2,
   "id": "7bf56747",
   "metadata": {},
   "outputs": [
    {
     "data": {
      "text/html": [
       "<div>\n",
       "<style scoped>\n",
       "    .dataframe tbody tr th:only-of-type {\n",
       "        vertical-align: middle;\n",
       "    }\n",
       "\n",
       "    .dataframe tbody tr th {\n",
       "        vertical-align: top;\n",
       "    }\n",
       "\n",
       "    .dataframe thead th {\n",
       "        text-align: right;\n",
       "    }\n",
       "</style>\n",
       "<table border=\"1\" class=\"dataframe\">\n",
       "  <thead>\n",
       "    <tr style=\"text-align: right;\">\n",
       "      <th></th>\n",
       "      <th>Virtual</th>\n",
       "      <th>Offset</th>\n",
       "      <th>loc</th>\n",
       "      <th>Import</th>\n",
       "      <th>Imports</th>\n",
       "      <th>var</th>\n",
       "      <th>Forwarder</th>\n",
       "      <th>UINT</th>\n",
       "      <th>LONG</th>\n",
       "      <th>BOOL</th>\n",
       "      <th>...</th>\n",
       "      <th>count_file_written</th>\n",
       "      <th>count_file_exists</th>\n",
       "      <th>count_file_deleted</th>\n",
       "      <th>count_file_copied</th>\n",
       "      <th>count_file_renamed</th>\n",
       "      <th>count_regkey_written</th>\n",
       "      <th>count_regkey_deleted</th>\n",
       "      <th>count_file_opened</th>\n",
       "      <th>count_dll_loaded</th>\n",
       "      <th>label</th>\n",
       "    </tr>\n",
       "  </thead>\n",
       "  <tbody>\n",
       "    <tr>\n",
       "      <th>0</th>\n",
       "      <td>0</td>\n",
       "      <td>0</td>\n",
       "      <td>1</td>\n",
       "      <td>0</td>\n",
       "      <td>0</td>\n",
       "      <td>0</td>\n",
       "      <td>0</td>\n",
       "      <td>0</td>\n",
       "      <td>0</td>\n",
       "      <td>0</td>\n",
       "      <td>...</td>\n",
       "      <td>0</td>\n",
       "      <td>0</td>\n",
       "      <td>0</td>\n",
       "      <td>0</td>\n",
       "      <td>0</td>\n",
       "      <td>0</td>\n",
       "      <td>0</td>\n",
       "      <td>0</td>\n",
       "      <td>0</td>\n",
       "      <td>1</td>\n",
       "    </tr>\n",
       "    <tr>\n",
       "      <th>1</th>\n",
       "      <td>0</td>\n",
       "      <td>0</td>\n",
       "      <td>0</td>\n",
       "      <td>0</td>\n",
       "      <td>0</td>\n",
       "      <td>0</td>\n",
       "      <td>0</td>\n",
       "      <td>0</td>\n",
       "      <td>0</td>\n",
       "      <td>0</td>\n",
       "      <td>...</td>\n",
       "      <td>0</td>\n",
       "      <td>0</td>\n",
       "      <td>0</td>\n",
       "      <td>0</td>\n",
       "      <td>0</td>\n",
       "      <td>0</td>\n",
       "      <td>0</td>\n",
       "      <td>0</td>\n",
       "      <td>0</td>\n",
       "      <td>1</td>\n",
       "    </tr>\n",
       "    <tr>\n",
       "      <th>2</th>\n",
       "      <td>0</td>\n",
       "      <td>0</td>\n",
       "      <td>1</td>\n",
       "      <td>0</td>\n",
       "      <td>0</td>\n",
       "      <td>0</td>\n",
       "      <td>0</td>\n",
       "      <td>0</td>\n",
       "      <td>0</td>\n",
       "      <td>0</td>\n",
       "      <td>...</td>\n",
       "      <td>0</td>\n",
       "      <td>0</td>\n",
       "      <td>0</td>\n",
       "      <td>0</td>\n",
       "      <td>0</td>\n",
       "      <td>0</td>\n",
       "      <td>0</td>\n",
       "      <td>0</td>\n",
       "      <td>0</td>\n",
       "      <td>1</td>\n",
       "    </tr>\n",
       "    <tr>\n",
       "      <th>3</th>\n",
       "      <td>0</td>\n",
       "      <td>0</td>\n",
       "      <td>1</td>\n",
       "      <td>0</td>\n",
       "      <td>0</td>\n",
       "      <td>0</td>\n",
       "      <td>0</td>\n",
       "      <td>0</td>\n",
       "      <td>0</td>\n",
       "      <td>0</td>\n",
       "      <td>...</td>\n",
       "      <td>0</td>\n",
       "      <td>0</td>\n",
       "      <td>0</td>\n",
       "      <td>0</td>\n",
       "      <td>0</td>\n",
       "      <td>0</td>\n",
       "      <td>0</td>\n",
       "      <td>0</td>\n",
       "      <td>0</td>\n",
       "      <td>1</td>\n",
       "    </tr>\n",
       "    <tr>\n",
       "      <th>4</th>\n",
       "      <td>0</td>\n",
       "      <td>0</td>\n",
       "      <td>0</td>\n",
       "      <td>0</td>\n",
       "      <td>0</td>\n",
       "      <td>0</td>\n",
       "      <td>0</td>\n",
       "      <td>0</td>\n",
       "      <td>0</td>\n",
       "      <td>0</td>\n",
       "      <td>...</td>\n",
       "      <td>0</td>\n",
       "      <td>0</td>\n",
       "      <td>0</td>\n",
       "      <td>0</td>\n",
       "      <td>0</td>\n",
       "      <td>0</td>\n",
       "      <td>0</td>\n",
       "      <td>0</td>\n",
       "      <td>0</td>\n",
       "      <td>1</td>\n",
       "    </tr>\n",
       "  </tbody>\n",
       "</table>\n",
       "<p>5 rows × 1085 columns</p>\n",
       "</div>"
      ],
      "text/plain": [
       "   Virtual  Offset  loc  Import  Imports  var  Forwarder  UINT  LONG  BOOL  \\\n",
       "0        0       0    1       0        0    0          0     0     0     0   \n",
       "1        0       0    0       0        0    0          0     0     0     0   \n",
       "2        0       0    1       0        0    0          0     0     0     0   \n",
       "3        0       0    1       0        0    0          0     0     0     0   \n",
       "4        0       0    0       0        0    0          0     0     0     0   \n",
       "\n",
       "   ...  count_file_written  count_file_exists  count_file_deleted  \\\n",
       "0  ...                   0                  0                   0   \n",
       "1  ...                   0                  0                   0   \n",
       "2  ...                   0                  0                   0   \n",
       "3  ...                   0                  0                   0   \n",
       "4  ...                   0                  0                   0   \n",
       "\n",
       "   count_file_copied  count_file_renamed  count_regkey_written  \\\n",
       "0                  0                   0                     0   \n",
       "1                  0                   0                     0   \n",
       "2                  0                   0                     0   \n",
       "3                  0                   0                     0   \n",
       "4                  0                   0                     0   \n",
       "\n",
       "   count_regkey_deleted  count_file_opened  count_dll_loaded  label  \n",
       "0                     0                  0                 0      1  \n",
       "1                     0                  0                 0      1  \n",
       "2                     0                  0                 0      1  \n",
       "3                     0                  0                 0      1  \n",
       "4                     0                  0                 0      1  \n",
       "\n",
       "[5 rows x 1085 columns]"
      ]
     },
     "execution_count": 2,
     "metadata": {},
     "output_type": "execute_result"
    }
   ],
   "source": [
    "# played around with switching 0 and 1s seems fine \n",
    "data['label'] = data['label'].map({1:0, 0:1})\n",
    "data.head()"
   ]
  },
  {
   "cell_type": "code",
   "execution_count": 3,
   "id": "f4fb77e4",
   "metadata": {},
   "outputs": [
    {
     "data": {
      "text/plain": [
       "0    5653\n",
       "1     595\n",
       "Name: label, dtype: int64"
      ]
     },
     "execution_count": 3,
     "metadata": {},
     "output_type": "execute_result"
    }
   ],
   "source": [
    "# yup  what we wanted to see\n",
    "data['label'].value_counts()"
   ]
  },
  {
   "cell_type": "code",
   "execution_count": 4,
   "id": "4111c09a",
   "metadata": {},
   "outputs": [
    {
     "data": {
      "text/plain": [
       "([<matplotlib.patches.Wedge at 0x21f872c8640>,\n",
       "  <matplotlib.patches.Wedge at 0x21f8721f7c0>],\n",
       " [Text(-1.051137863151662, 0.324205479054501, 'malware'),\n",
       "  Text(1.0511378783288143, -0.3242054298471861, 'benign')])"
      ]
     },
     "execution_count": 4,
     "metadata": {},
     "output_type": "execute_result"
    },
    {
     "data": {
      "image/png": "[encoded data removed]",
      "text/plain": [
       "<Figure size 640x480 with 1 Axes>"
      ]
     },
     "metadata": {},
     "output_type": "display_data"
    }
   ],
   "source": [
    "# Our pie chart  \n",
    "import matplotlib.pyplot as plt\n",
    "\n",
    "labels = 'malware', 'benign'\n",
    "\n",
    "fig, ax = plt.subplots()\n",
    "ax.pie(data['label'].value_counts(), labels = labels)"
   ]
  },
  {
   "cell_type": "code",
   "execution_count": 5,
   "id": "d72ec95c",
   "metadata": {},
   "outputs": [
    {
     "name": "stdout",
     "output_type": "stream",
     "text": [
      "(4186, 1085)\n",
      "(2062, 1085)\n",
      "0    3806\n",
      "1     380\n",
      "Name: label, dtype: int64\n",
      "0    1847\n",
      "1     215\n",
      "Name: label, dtype: int64\n"
     ]
    }
   ],
   "source": [
    "# splitting the data unbalnced \n",
    "from sklearn.model_selection import train_test_split\n",
    "\n",
    "# our unbalanced training data, random stat just makes us get the same random numbers each time??\n",
    "ub_train, ub_test = train_test_split(data, test_size=0.33, random_state=42)\n",
    "\n",
    "# just wanted to see that it was split \n",
    "print(ub_train.shape)\n",
    "print(ub_test.shape)\n",
    "\n",
    "# and how it split\n",
    "# ub_train.head()\n",
    "# ub_test.head()\n",
    "print(ub_train['label'].value_counts())\n",
    "print(ub_test['label'].value_counts())\n"
   ]
  },
  {
   "cell_type": "code",
   "execution_count": 6,
   "id": "49755cf1",
   "metadata": {},
   "outputs": [],
   "source": [
    "# making our tree model \n",
    "from sklearn import tree\n",
    "\n",
    "# splitting the classifier from the rest of the data \n",
    "Y = ub_train['label']\n",
    "X = ub_train.drop(['label'], axis=1)\n",
    "\n",
    "# make our decision tree \n",
    "clf = tree.DecisionTreeClassifier(criterion='entropy')\n",
    "clf = clf.fit(X,Y)"
   ]
  },
  {
   "cell_type": "code",
   "execution_count": 7,
   "id": "1197972f",
   "metadata": {},
   "outputs": [
    {
     "data": {
      "text/plain": [
       "<Figure size 2000x2000 with 0 Axes>"
      ]
     },
     "execution_count": 7,
     "metadata": {},
     "output_type": "execute_result"
    },
    {
     "data": {
      "image/png": "[encoded data removed]",
      "text/plain": [
       "<Figure size 640x480 with 1 Axes>"
      ]
     },
     "metadata": {},
     "output_type": "display_data"
    },
    {
     "data": {
      "text/plain": [
       "<Figure size 2000x2000 with 0 Axes>"
      ]
     },
     "metadata": {},
     "output_type": "display_data"
    }
   ],
   "source": [
    "# plot our decision tree not sure how to make it bigger \n",
    "tree.plot_tree(clf, filled=True)\n",
    "plt.figure(figsize=(20,20))"
   ]
  },
  {
   "cell_type": "code",
   "execution_count": 8,
   "id": "65e553d3",
   "metadata": {},
   "outputs": [
    {
     "data": {
      "text/plain": [
       "1.0"
      ]
     },
     "execution_count": 8,
     "metadata": {},
     "output_type": "execute_result"
    }
   ],
   "source": [
    "# so it probably overfit the model \n",
    "clf.score(X, Y)"
   ]
  },
  {
   "cell_type": "code",
   "execution_count": 9,
   "id": "477afb44",
   "metadata": {},
   "outputs": [
    {
     "name": "stdout",
     "output_type": "stream",
     "text": [
      "Accuracy: 0.9932104752667313\n",
      "Precision: 0.9799408040163351\n",
      "Recall: 0.983880837561854\n"
     ]
    }
   ],
   "source": [
    "# these scores seem really high too high but I don't see what I did wrong... I wish I could test it.. I mean I couuld \n",
    "# try changing all the 1 to 0 and vice versa \n",
    "from sklearn import metrics #Import scikit-learn metrics module for accuracy calculation\n",
    "# trying to test... https://scikit-learn.org/stable/modules/tree.html\n",
    "Y_test = ub_test['label']\n",
    "X_test = ub_test.drop(['label'], axis=1)\n",
    "\n",
    "# what it predicted \n",
    "predictions = clf.predict(X_test)\n",
    "\n",
    "# print(predictions)\n",
    "# print(Y_test)\n",
    "\n",
    "# accuracy \n",
    "print(\"Accuracy:\",metrics.accuracy_score(Y_test, predictions))\n",
    "# https://scikit-learn.org/stable/modules/generated/sklearn.metrics.auc.html\n",
    "# print(\"AUC:\",metrics.auc(Y_test, predictions))\n",
    "#https://scikit-learn.org/stable/modules/generated/sklearn.metrics.precision_score.html#examples-using-sklearn-metrics-precision-score\n",
    "print(\"Precision:\",metrics.precision_score(Y_test, predictions, average='macro'))\n",
    "print(\"Recall:\",metrics.recall_score(Y_test, predictions, average='macro'))"
   ]
  },
  {
   "cell_type": "code",
   "execution_count": 10,
   "id": "6481eeff",
   "metadata": {},
   "outputs": [
    {
     "name": "stdout",
     "output_type": "stream",
     "text": [
      "Accuracy: 0.9932104752667313\n",
      "ACU: 0.9838808375618538\n",
      "F1: 0.9675925925925927\n",
      "Precision: 0.9631336405529954\n",
      "Recall: 0.9720930232558139\n"
     ]
    }
   ],
   "source": [
    "# seems like it is doing way to well  and I am not really sure how to test it \n",
    "from sklearn import metrics #Import scikit-learn metrics module for accuracy calculation\n",
    "# trying to test... https://scikit-learn.org/stable/modules/tree.html\n",
    "Y_test = ub_test['label']\n",
    "X_test = ub_test.drop(['label'], axis=1)\n",
    "\n",
    "predictions = clf.predict(X_test)\n",
    "\n",
    "# print(predictions)\n",
    "# print(Y_test)\n",
    "\n",
    "print(\"Accuracy:\",metrics.accuracy_score(Y_test, predictions))\n",
    "fpr, tpr, thresholds = metrics.roc_curve(Y_test, predictions)\n",
    "print(\"ACU:\", metrics.auc(fpr, tpr))\n",
    "print(\"F1:\", metrics.f1_score(Y_test, predictions))\n",
    "# https://scikit-learn.org/stable/modules/generated/sklearn.metrics.auc.html\n",
    "# print(\"AUC:\",metrics.auc(Y_test, predictions))\n",
    "#https://scikit-learn.org/stable/modules/generated/sklearn.metrics.precision_score.html#examples-using-sklearn-metrics-precision-score\n",
    "print(\"Precision:\",metrics.precision_score(Y_test, predictions))\n",
    "print(\"Recall:\",metrics.recall_score(Y_test, predictions))"
   ]
  },
  {
   "cell_type": "code",
   "execution_count": 11,
   "id": "6db749bd",
   "metadata": {},
   "outputs": [
    {
     "data": {
      "text/plain": [
       "<sklearn.metrics._plot.confusion_matrix.ConfusionMatrixDisplay at 0x21f8fd67fa0>"
      ]
     },
     "execution_count": 11,
     "metadata": {},
     "output_type": "execute_result"
    },
    {
     "data": {
      "image/png": "[encoded data removed]",
      "text/plain": [
       "<Figure size 640x480 with 2 Axes>"
      ]
     },
     "metadata": {},
     "output_type": "display_data"
    }
   ],
   "source": [
    "# from imblearn.over_sampling import RandomOverSampler\n",
    "\n",
    "# y = data[data['label'] == 1]\n",
    "# X = data[data['label'] == 0]\n",
    "\n",
    "# y.shape\n",
    "\n",
    "# ros = RandomOverSampler(random_state=42)\n",
    "# X_res, y_res = ros.fit_resample(data, ['label'])\n",
    "\n",
    "# # X_res.head()\n",
    "from sklearn.metrics import confusion_matrix, ConfusionMatrixDisplay\n",
    "cm = confusion_matrix(Y_test, predictions, labels=clf.classes_)\n",
    "disp = ConfusionMatrixDisplay(confusion_matrix=cm, display_labels=clf.classes_)\n",
    "disp.plot()"
   ]
  },
  {
   "cell_type": "code",
   "execution_count": 12,
   "id": "f81c5afa",
   "metadata": {},
   "outputs": [
    {
     "name": "stdout",
     "output_type": "stream",
     "text": [
      "[ 0.25364115 -1.45638734 -0.52259796 -1.20056961 -0.59555287  3.49859326\n",
      "  0.44735439  0.75267869 -0.43342196  1.55254289  2.16911346 -0.75324323\n",
      "  0.6556247   0.61242855 -1.19028557  0.19773809  1.0019116   1.69409346\n",
      " -0.24969905  0.4587598 ]\n",
      "1000\n",
      "Original dataset shape Counter({1: 900, 0: 100})\n",
      "[ 0.25364115 -1.45638734 -0.52259796 -1.20056961 -0.59555287  3.49859326\n",
      "  0.44735439  0.75267869 -0.43342196  1.55254289  2.16911346 -0.75324323\n",
      "  0.6556247   0.61242855 -1.19028557  0.19773809  1.0019116   1.69409346\n",
      " -0.24969905  0.4587598 ]\n",
      "1800\n",
      "Resampled dataset shape Counter({0: 900, 1: 900})\n"
     ]
    }
   ],
   "source": [
    "from collections import Counter\n",
    "from sklearn.datasets import make_classification\n",
    "from imblearn.over_sampling import RandomOverSampler\n",
    "X, y = make_classification(n_classes=2, class_sep=2,\n",
    "weights=[0.1, 0.9], n_informative=3, n_redundant=1, flip_y=0,\n",
    "n_features=20, n_clusters_per_class=1, n_samples=1000, random_state=10)\n",
    "print(X[1])\n",
    "print(len(y))\n",
    "print('Original dataset shape %s' % Counter(y))\n",
    "ros = RandomOverSampler(random_state=42)\n",
    "X_res, y_res = ros.fit_resample(X, y)\n",
    "print(X_res[1])\n",
    "print(len(y_res))\n",
    "print('Resampled dataset shape %s' % Counter(y_res))\n"
   ]
  }
 ],
 "metadata": {
  "kernelspec": {
   "display_name": "Python 3 (ipykernel)",
   "language": "python",
   "name": "python3"
  },
  "language_info": {
   "codemirror_mode": {
    "name": "ipython",
    "version": 3
   },
   "file_extension": ".py",
   "mimetype": "text/x-python",
   "name": "python",
   "nbconvert_exporter": "python",
   "pygments_lexer": "ipython3",
   "version": "3.10.9"
  }
 },
 "nbformat": 4,
 "nbformat_minor": 5
}
